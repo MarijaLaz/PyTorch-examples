{
  "nbformat": 4,
  "nbformat_minor": 0,
  "metadata": {
    "accelerator": "GPU",
    "colab": {
      "name": "CNN_2Channels.ipynb",
      "provenance": [],
      "collapsed_sections": []
    },
    "kernelspec": {
      "display_name": "Python [conda env:ada] *",
      "language": "python",
      "name": "conda-env-ada-py"
    },
    "language_info": {
      "codemirror_mode": {
        "name": "ipython",
        "version": 3
      },
      "file_extension": ".py",
      "mimetype": "text/x-python",
      "name": "python",
      "nbconvert_exporter": "python",
      "pygments_lexer": "ipython3",
      "version": "3.8.5"
    }
  },
  "cells": [
    {
      "cell_type": "markdown",
      "metadata": {
        "id": "HRO6kj35U-tb"
      },
      "source": [
        "# 1D Convolution NN\n",
        "\n"
      ]
    },
    {
      "cell_type": "markdown",
      "metadata": {
        "id": "sUS6uWB6sweb"
      },
      "source": [
        "### Using the raw brachial waveforms and the derivatives --> 2 channels"
      ]
    },
    {
      "cell_type": "markdown",
      "metadata": {
        "id": "YydDIxDRKxT5"
      },
      "source": [
        "This notebook contains the code for loading the brachial waveforms and the splitting it into 3 datasets:\n",
        "\n",
        "    Train set 60%\n",
        "    Validation set 20%\n",
        "    Test set 20%\n",
        "\n",
        "After the split it's done, a normalization step is applied to the datasets. Then, the model which is a 1D CNN is being trained and predictions of the value of the Ees(end systolic elastance) are being produced. The purpose of using a CNN is to predict the value of Ees in a non-invasive matter by directly using the timeseries data. In addition to the waveforms, as an input to the CNN a second channel is being added, which is the derivative of the waveforms.\n",
        "\n",
        "The functions used for creating the CNN and training it can be found in the file NN_helpers.py (In the file there are constructions of architecture for 3 different CNNs, one of each for the inputs having 1channel, 2 and 3 channels)."
      ]
    },
    {
      "cell_type": "code",
      "metadata": {
        "id": "OtUnhCymO8lj"
      },
      "source": [
        "%matplotlib inline\n",
        "import sys\n",
        "sys.path.append('/content/drive/MyDrive/Project2_ML/Final_project')\n",
        "import torch\n",
        "import torchvision\n",
        "import torch.nn as nn\n",
        "import torch.optim as optim\n",
        "import numpy as np\n",
        "import pandas as pd\n",
        "from scripts.helpers import *\n",
        "from scripts.NN_helpers import *\n",
        "import matplotlib.pyplot as plt\n",
        "from sklearn.metrics import r2_score\n",
        "from sklearn.metrics import mean_squared_error"
      ],
      "execution_count": null,
      "outputs": []
    },
    {
      "cell_type": "markdown",
      "metadata": {
        "id": "tUbe05QOPf_F"
      },
      "source": [
        "Load Data"
      ]
    },
    {
      "cell_type": "code",
      "metadata": {
        "id": "2yXNxBL3ISMc"
      },
      "source": [
        "DATA_PATH = \"drive/MyDrive/Project2_ML/Final_project/Data/split_data/\"\n",
        "\n",
        "br_waveform = pd.read_csv(DATA_PATH+\"BRACHIAL.csv\", sep=',').set_index(\"id\")"
      ],
      "execution_count": null,
      "outputs": []
    },
    {
      "cell_type": "markdown",
      "metadata": {
        "id": "-vRCW9joVOec"
      },
      "source": [
        "Splitting data to :\n",
        "\n",
        "*   Train set 60%\n",
        "*   Validation set 20%\n",
        "*   Test set 20%\n",
        "\n",
        "\n"
      ]
    },
    {
      "cell_type": "code",
      "metadata": {
        "id": "s7RzqcCHK6yh"
      },
      "source": [
        "from sklearn.model_selection import train_test_split\n",
        "X_train, X_test, y_train, y_test = train_test_split(br_waveform, ees, test_size = 0.20)"
      ],
      "execution_count": null,
      "outputs": []
    },
    {
      "cell_type": "code",
      "metadata": {
        "id": "jhmsmRNCyWcC"
      },
      "source": [
        "X_train, X_validation, y_train, y_validation = train_test_split(X_train, y_train, test_size = 0.20)"
      ],
      "execution_count": null,
      "outputs": []
    },
    {
      "cell_type": "code",
      "metadata": {
        "colab": {
          "base_uri": "https://localhost:8080/"
        },
        "id": "QEiaOvlJRbX5",
        "outputId": "746d51af-3f79-4dad-db93-d7765bafca4f"
      },
      "source": [
        "X_train.shape"
      ],
      "execution_count": null,
      "outputs": [
        {
          "output_type": "execute_result",
          "data": {
            "text/plain": [
              "(2398, 200)"
            ]
          },
          "metadata": {},
          "execution_count": 13
        }
      ]
    },
    {
      "cell_type": "code",
      "metadata": {
        "id": "TSPPlpsPSJ0q"
      },
      "source": [
        "X_train.to_csv('drive/MyDrive/Project2_ML/Final_project/Data/split_data/X_train.csv') "
      ],
      "execution_count": null,
      "outputs": []
    },
    {
      "cell_type": "code",
      "metadata": {
        "id": "SzzqBUCnTM22"
      },
      "source": [
        "X_validation.to_csv('drive/MyDrive/Project2_ML/Final_project/Data/split_data/X_validation.csv') "
      ],
      "execution_count": null,
      "outputs": []
    },
    {
      "cell_type": "code",
      "metadata": {
        "id": "6mSYcI6bTM-A"
      },
      "source": [
        "X_test.to_csv('drive/MyDrive/Project2_ML/Final_project/Data/split_data/X_test.csv') "
      ],
      "execution_count": null,
      "outputs": []
    },
    {
      "cell_type": "code",
      "metadata": {
        "id": "X54Ow0DbTbcE"
      },
      "source": [
        "y_train.to_csv('drive/MyDrive/Project2_ML/Final_project/Data/split_data/y_train.csv') "
      ],
      "execution_count": null,
      "outputs": []
    },
    {
      "cell_type": "code",
      "metadata": {
        "id": "bBu7ESW7Tblh"
      },
      "source": [
        "y_validation.to_csv('drive/MyDrive/Project2_ML/Final_project/Data/split_data/y_validation.csv') "
      ],
      "execution_count": null,
      "outputs": []
    },
    {
      "cell_type": "code",
      "metadata": {
        "id": "EJi3ZrDqTbqH"
      },
      "source": [
        "y_test.to_csv('drive/MyDrive/Project2_ML/Final_project/Data/split_data/y_test.csv') "
      ],
      "execution_count": null,
      "outputs": []
    },
    {
      "cell_type": "markdown",
      "metadata": {
        "id": "gGW6OGTls4nj"
      },
      "source": [
        "### The derivatives of the waveforms"
      ]
    },
    {
      "cell_type": "code",
      "metadata": {
        "id": "Qz_dXTyHWaSd"
      },
      "source": [
        "derivatives_train = derivative(X_train,HR_train)\n",
        "derivatives_validation = derivative(X_validation,HR_validation)\n",
        "derivatives_test = derivative(X_test,HR_test)"
      ],
      "execution_count": null,
      "outputs": []
    },
    {
      "cell_type": "code",
      "metadata": {
        "colab": {
          "base_uri": "https://localhost:8080/"
        },
        "id": "e2tyD57RZMlZ",
        "outputId": "b2ed3380-bd58-4844-fe78-ffa64baa37c8"
      },
      "source": [
        "derivatives_train.shape,derivatives_validation.shape,derivatives_test.shape"
      ],
      "execution_count": null,
      "outputs": [
        {
          "output_type": "execute_result",
          "data": {
            "text/plain": [
              "((2398, 200), (600, 200), (750, 200))"
            ]
          },
          "metadata": {},
          "execution_count": 15
        }
      ]
    },
    {
      "cell_type": "code",
      "metadata": {
        "id": "mpXl0YJ5YBsg"
      },
      "source": [
        "raw_waveforms_train = np.array(X_train)\n",
        "waveforms_2_train = np.c_[raw_waveforms_train,derivatives_train] # adding the second channel\n",
        "X_train = waveforms_2_train.reshape(X_train.shape[0],2,200)"
      ],
      "execution_count": null,
      "outputs": []
    },
    {
      "cell_type": "code",
      "metadata": {
        "id": "sbacyDZUZr4a"
      },
      "source": [
        "raw_waveforms_validation = np.array(X_validation)\n",
        "waveforms_2_validation = np.c_[raw_waveforms_validation,derivatives_validation] # adding the second channel\n",
        "X_validation = waveforms_2_validation.reshape(X_validation.shape[0],2,200)"
      ],
      "execution_count": null,
      "outputs": []
    },
    {
      "cell_type": "code",
      "metadata": {
        "id": "lutlFGxgZr65"
      },
      "source": [
        "raw_waveforms_test = np.array(X_test)\n",
        "waveforms_2_test = np.c_[raw_waveforms_test,derivatives_test] # adding the second channel\n",
        "X_test = waveforms_2_test.reshape(X_test.shape[0],2,200)"
      ],
      "execution_count": null,
      "outputs": []
    },
    {
      "cell_type": "code",
      "metadata": {
        "colab": {
          "base_uri": "https://localhost:8080/"
        },
        "id": "6WohRZ-zYnr0",
        "outputId": "f0b55877-da2d-4ad2-d85b-0d402a3fbdca"
      },
      "source": [
        "X_train.shape,X_validation.shape,X_test.shape"
      ],
      "execution_count": null,
      "outputs": [
        {
          "output_type": "execute_result",
          "data": {
            "text/plain": [
              "((2398, 2, 200), (600, 2, 200), (750, 2, 200))"
            ]
          },
          "metadata": {},
          "execution_count": 21
        }
      ]
    },
    {
      "cell_type": "markdown",
      "metadata": {
        "id": "x48XH-TKVabi"
      },
      "source": [
        "### Normalization"
      ]
    },
    {
      "cell_type": "code",
      "metadata": {
        "id": "cr9eNUnZN4Ys"
      },
      "source": [
        "normalized_train = np.empty((X_train.shape))\n",
        "normalized_valid = np.empty((X_validation.shape))"
      ],
      "execution_count": null,
      "outputs": []
    },
    {
      "cell_type": "code",
      "metadata": {
        "id": "Vici22YePtXb"
      },
      "source": [
        "normalized_test = np.empty((X_test.shape))"
      ],
      "execution_count": null,
      "outputs": []
    },
    {
      "cell_type": "code",
      "metadata": {
        "id": "8226TeMH2YHX"
      },
      "source": [
        "from sklearn import preprocessing\n",
        "\n",
        "scaler = preprocessing.MinMaxScaler()\n",
        "scaler.fit(X_train[:,0,:])\n",
        "normalized_train[:,0,:] = scaler.transform(X_train[:,0,:])\n",
        "normalized_valid[:,0,:] = scaler.transform(X_validation[:,0,:])"
      ],
      "execution_count": null,
      "outputs": []
    },
    {
      "cell_type": "code",
      "metadata": {
        "id": "SSZQ6b3_PuPT"
      },
      "source": [
        "normalized_test[:,0,:] = scaler.transform(X_test[:,0,:])"
      ],
      "execution_count": null,
      "outputs": []
    },
    {
      "cell_type": "code",
      "metadata": {
        "id": "3zSb8AJ4OmUu"
      },
      "source": [
        "scaler = preprocessing.MinMaxScaler()\n",
        "scaler.fit(X_train[:,1,:])\n",
        "normalized_train[:,1,:] = scaler.transform(X_train[:,1,:])\n",
        "normalized_valid[:,1,:] = scaler.transform(X_validation[:,1,:])"
      ],
      "execution_count": null,
      "outputs": []
    },
    {
      "cell_type": "code",
      "metadata": {
        "id": "vDH-j3x5PvN6"
      },
      "source": [
        "normalized_test[:,1,:] = scaler.transform(X_test[:,1,:])"
      ],
      "execution_count": null,
      "outputs": []
    },
    {
      "cell_type": "code",
      "metadata": {
        "colab": {
          "base_uri": "https://localhost:8080/"
        },
        "id": "21A7ohUSOzOr",
        "outputId": "43064388-8d53-4e3b-ed40-f421c2f45090"
      },
      "source": [
        "normalized_train.shape, normalized_valid.shape, normalized_test.shape"
      ],
      "execution_count": null,
      "outputs": [
        {
          "output_type": "execute_result",
          "data": {
            "text/plain": [
              "((2398, 2, 200), (600, 2, 200), (750, 2, 200))"
            ]
          },
          "metadata": {},
          "execution_count": 28
        }
      ]
    },
    {
      "cell_type": "code",
      "metadata": {
        "id": "lw8Doo-ZTGPO"
      },
      "source": [
        "X_train, X_validation, X_test = normalized_train, normalized_valid, normalized_test"
      ],
      "execution_count": null,
      "outputs": []
    },
    {
      "cell_type": "code",
      "metadata": {
        "colab": {
          "base_uri": "https://localhost:8080/"
        },
        "id": "ensNIDPeVdjQ",
        "outputId": "46f8cb17-f6ec-4c75-c787-e7ccdf2cc3e1"
      },
      "source": [
        "X_train.shape, X_validation.shape, X_test.shape"
      ],
      "execution_count": null,
      "outputs": [
        {
          "output_type": "execute_result",
          "data": {
            "text/plain": [
              "((2398, 2, 200), (600, 2, 200), (750, 2, 200))"
            ]
          },
          "metadata": {},
          "execution_count": 30
        }
      ]
    },
    {
      "cell_type": "code",
      "metadata": {
        "id": "WUw3M1TyURzV",
        "colab": {
          "base_uri": "https://localhost:8080/"
        },
        "outputId": "efb4caf7-35cf-4186-b9f1-b2617fb395ef"
      },
      "source": [
        "y_train.shape, y_validation.shape, y_test.shape"
      ],
      "execution_count": null,
      "outputs": [
        {
          "output_type": "execute_result",
          "data": {
            "text/plain": [
              "((2398, 1), (600, 1), (750, 1))"
            ]
          },
          "metadata": {},
          "execution_count": 31
        }
      ]
    },
    {
      "cell_type": "markdown",
      "metadata": {
        "id": "VFL7LFfWPrbV"
      },
      "source": [
        "## Convolution model"
      ]
    },
    {
      "cell_type": "code",
      "metadata": {
        "colab": {
          "base_uri": "https://localhost:8080/"
        },
        "id": "EuWcTpe-tVlC",
        "outputId": "61064214-6dce-4eae-fdf5-8811f39221f8"
      },
      "source": [
        "torch.cuda.is_available()"
      ],
      "execution_count": null,
      "outputs": [
        {
          "output_type": "execute_result",
          "data": {
            "text/plain": [
              "True"
            ]
          },
          "metadata": {},
          "execution_count": 32
        }
      ]
    },
    {
      "cell_type": "code",
      "metadata": {
        "id": "FJkN8jartEu5"
      },
      "source": [
        "NUM_EPOCHS = 300"
      ],
      "execution_count": null,
      "outputs": []
    },
    {
      "cell_type": "markdown",
      "metadata": {
        "id": "3Zj02Ed9otq_"
      },
      "source": [
        "##### TUNING HYPER PARAMETERS + Training"
      ]
    },
    {
      "cell_type": "code",
      "metadata": {
        "id": "NcjKqPDXpZQH"
      },
      "source": [
        "learning_rate=[0.001,0.0001]\n",
        "batch_size = [32,64,128,200,250]\n",
        "parameters = [learning_rate,batch_size]\n",
        "\n",
        "dataset_train = [np.array(X_train),np.array(y_train)]\n",
        "dataset_test = [np.array(X_validation),np.array(y_validation)]\n",
        "\n",
        "results=hypertuning_NN(dataset_train,dataset_test,parameters,NUM_EPOCHS,2)"
      ],
      "execution_count": null,
      "outputs": []
    },
    {
      "cell_type": "markdown",
      "metadata": {
        "id": "cNIV_psfsgDx"
      },
      "source": [
        "Estimation"
      ]
    },
    {
      "cell_type": "code",
      "metadata": {
        "id": "JTnEZtANcVBL"
      },
      "source": [
        "torch.save(results[0][-1].state_dict(), \"drive/MyDrive/Project2_ML/Final_project/Data/saved_model_2channels.pt\")"
      ],
      "execution_count": null,
      "outputs": []
    },
    {
      "cell_type": "code",
      "metadata": {
        "id": "9TJXm390sTST"
      },
      "source": [
        "predictions = results[0][-1](torch.from_numpy(X_test).float().to(device))"
      ],
      "execution_count": null,
      "outputs": []
    },
    {
      "cell_type": "code",
      "metadata": {
        "colab": {
          "base_uri": "https://localhost:8080/"
        },
        "id": "_5_dpmj0ssv5",
        "outputId": "932cfc35-a065-440b-d3cf-9d9e53631bc3"
      },
      "source": [
        "r2_score(y_test,predictions.view(-1).cpu().detach().numpy())"
      ],
      "execution_count": null,
      "outputs": [
        {
          "output_type": "execute_result",
          "data": {
            "text/plain": [
              "0.9380343043335836"
            ]
          },
          "metadata": {
            "tags": []
          },
          "execution_count": 130
        }
      ]
    },
    {
      "cell_type": "code",
      "metadata": {
        "colab": {
          "base_uri": "https://localhost:8080/"
        },
        "id": "oEhNqlZNssv9",
        "outputId": "3113772c-9858-4532-8f19-7ab6ffd124a9"
      },
      "source": [
        "np.corrcoef(y_test.to_numpy().flatten(), predictions.view(-1).cpu().detach().numpy())[0,1]"
      ],
      "execution_count": null,
      "outputs": [
        {
          "output_type": "execute_result",
          "data": {
            "text/plain": [
              "0.9691020864186981"
            ]
          },
          "metadata": {
            "tags": []
          },
          "execution_count": 131
        }
      ]
    },
    {
      "cell_type": "code",
      "metadata": {
        "colab": {
          "base_uri": "https://localhost:8080/"
        },
        "id": "3lafRBg6ssv-",
        "outputId": "fbe68a97-d9a5-44a7-9c93-34325a591368"
      },
      "source": [
        "mean_squared_error(y_test,predictions.view(-1).cpu().detach().numpy())"
      ],
      "execution_count": null,
      "outputs": [
        {
          "output_type": "execute_result",
          "data": {
            "text/plain": [
              "0.016172146270532074"
            ]
          },
          "metadata": {
            "tags": []
          },
          "execution_count": 132
        }
      ]
    },
    {
      "cell_type": "code",
      "metadata": {
        "id": "FwIxeVXetkOy"
      },
      "source": [
        "predictions = predictions.view(-1).cpu().detach().numpy()"
      ],
      "execution_count": null,
      "outputs": []
    },
    {
      "cell_type": "code",
      "metadata": {
        "id": "yddXrTQntKhD"
      },
      "source": [
        "df = pd.DataFrame()\n",
        "df[\"Predictions\"] = predictions\n",
        "df[\"Real\"] = np.array(y_test).flatten()\n",
        "df.to_csv(\"drive/MyDrive/Project2_ML/Final_project/NewData_results/ND_results_2Channel.csv\")"
      ],
      "execution_count": null,
      "outputs": []
    },
    {
      "cell_type": "code",
      "metadata": {
        "id": "_nqSdi9-EhQ9"
      },
      "source": [
        "df_validation = pd.DataFrame()\n",
        "df_validation[\"R2\"]=results[0][0]\n",
        "df_validation[\"loss\"]=results[0][1]\n",
        "df_validation[\"r\"]=results[0][4]\n",
        "df_validation.to_csv(\"drive/MyDrive/Project2_ML/Final_project/NewData_metrics_validation_set/ND_results_2Channel_normalized.csv\")"
      ],
      "execution_count": null,
      "outputs": []
    },
    {
      "cell_type": "code",
      "metadata": {
        "id": "jPgjwwkqGG93"
      },
      "source": [
        "df_train = pd.DataFrame()\n",
        "df_train[\"R2\"]=results[0][2]\n",
        "df_train[\"loss\"]=results[0][3]\n",
        "df_train.to_csv(\"drive/MyDrive/Project2_ML/Final_project/NewData_metrics_train_set/ND_results_2Channel_normalized.csv\")"
      ],
      "execution_count": null,
      "outputs": []
    },
    {
      "cell_type": "code",
      "metadata": {
        "colab": {
          "base_uri": "https://localhost:8080/",
          "height": 391
        },
        "id": "NFJXXvYxKmaV",
        "outputId": "09d97818-e572-4663-adf8-fab3d3de4276"
      },
      "source": [
        "f, (ax1, ax2) = plt.subplots(2, 1, figsize=(6,5),sharey=False)\n",
        "x = np.arange(0,NUM_EPOCHS)\n",
        "ax1.plot(x,results[0][0],label=\"R2\")\n",
        "ax1.plot(x,results[0][4],label=\"r\")\n",
        "ax2.plot(x,results[0][1],label=\"loss\")\n",
        "ax1.set_xlabel(\"Epochs\")\n",
        "ax2.set_xlabel(\"Epochs\")\n",
        "ax1.legend()\n",
        "ax2.legend()\n",
        "f.tight_layout() \n",
        "f.suptitle(\"Validation set\",y=1.03)\n",
        "plt.show()"
      ],
      "execution_count": null,
      "outputs": [
        {
          "output_type": "display_data",
          "data": {
            "image/png": "[encoded data removed]",
            "text/plain": [
              "<Figure size 432x360 with 2 Axes>"
            ]
          },
          "metadata": {
            "tags": [],
            "needs_background": "light"
          }
        }
      ]
    },
    {
      "cell_type": "code",
      "metadata": {
        "colab": {
          "base_uri": "https://localhost:8080/",
          "height": 256
        },
        "id": "MZCmouX_KmaY",
        "outputId": "6ec7c898-8506-4edd-f1c7-e650336053df"
      },
      "source": [
        "f, (ax1, ax2) = plt.subplots(1, 2, figsize=(10,3),sharey=False)\n",
        "x = np.arange(0,NUM_EPOCHS)\n",
        "ax1.plot(x,results[0][2],label=\"R2\")\n",
        "ax2.plot(x,results[0][3],label=\"loss\")\n",
        "ax1.legend()\n",
        "ax2.legend()\n",
        "f.tight_layout() \n",
        "f.suptitle(\"Train\",y=1.09)\n",
        "plt.show()"
      ],
      "execution_count": null,
      "outputs": [
        {
          "output_type": "display_data",
          "data": {
            "image/png": "[encoded data removed]",
            "text/plain": [
              "<Figure size 720x216 with 2 Axes>"
            ]
          },
          "metadata": {
            "tags": [],
            "needs_background": "light"
          }
        }
      ]
    }
  ]
}