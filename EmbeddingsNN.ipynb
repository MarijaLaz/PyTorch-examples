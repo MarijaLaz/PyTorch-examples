{
  "nbformat": 4,
  "nbformat_minor": 5,
  "metadata": {
    "kernelspec": {
      "display_name": "Python 3",
      "language": "python",
      "name": "python3"
    },
    "language_info": {
      "codemirror_mode": {
        "name": "ipython",
        "version": 3
      },
      "file_extension": ".py",
      "mimetype": "text/x-python",
      "name": "python",
      "nbconvert_exporter": "python",
      "pygments_lexer": "ipython3",
      "version": "3.9.1"
    },
    "colab": {
      "name": "network.ipynb",
      "provenance": [],
      "collapsed_sections": []
    },
    "accelerator": "GPU"
  },
  "cells": [
    {
      "cell_type": "markdown",
      "metadata": {
        "id": "healthy-spice"
      },
      "source": [
        "This notebook contains code for creating a Embeddings NN in order to estimate the ratings that the users gave for certain items. The data used was an Amazon dataset containing ratings of video games.\n",
        "\n",
        "The code is a sample code from the project conducted for the Machine Learning for Behavioral Data course. "
      ],
      "id": "healthy-spice"
    },
    {
      "cell_type": "code",
      "metadata": {
        "colab": {
          "base_uri": "https://localhost:8080/"
        },
        "id": "U3loVFyVYnM0",
        "outputId": "6b0a70b0-98ed-475a-8204-61bed74429c9"
      },
      "source": [
        "from google.colab import drive\n",
        "drive.mount('/content/drive', force_remount=True)"
      ],
      "id": "U3loVFyVYnM0",
      "execution_count": null,
      "outputs": [
        {
          "output_type": "stream",
          "text": [
            "Mounted at /content/drive\n"
          ],
          "name": "stdout"
        }
      ]
    },
    {
      "cell_type": "markdown",
      "metadata": {
        "id": "worth-theater"
      },
      "source": [
        "### Track 2 - E-Commerce"
      ],
      "id": "worth-theater"
    },
    {
      "cell_type": "code",
      "metadata": {
        "id": "functional-shareware"
      },
      "source": [
        "import pandas as pd\n",
        "import numpy as np\n",
        "import matplotlib.pyplot as plt\n",
        "\n",
        "import copy\n",
        "from sklearn.model_selection import train_test_split\n",
        "\n",
        "import torch\n",
        "from torch import nn\n",
        "from torch import optim\n",
        "DATA_PATH = \"/content/drive/MyDrive/MLBH/data/\""
      ],
      "id": "functional-shareware",
      "execution_count": null,
      "outputs": []
    },
    {
      "cell_type": "code",
      "metadata": {
        "colab": {
          "base_uri": "https://localhost:8080/",
          "height": 206
        },
        "id": "chicken-civilization",
        "outputId": "339d18cc-a9c6-42ae-cb70-e7ebc8dc1920"
      },
      "source": [
        "videoGames_ratings=pd.read_csv(DATA_PATH+\"sports.csv\",names=['user_id', 'item_id','rating','timestamp'])\n",
        "videoGames_ratings.head()"
      ],
      "id": "chicken-civilization",
      "execution_count": null,
      "outputs": [
        {
          "output_type": "execute_result",
          "data": {
            "text/html": [
              "<div>\n",
              "<style scoped>\n",
              "    .dataframe tbody tr th:only-of-type {\n",
              "        vertical-align: middle;\n",
              "    }\n",
              "\n",
              "    .dataframe tbody tr th {\n",
              "        vertical-align: top;\n",
              "    }\n",
              "\n",
              "    .dataframe thead th {\n",
              "        text-align: right;\n",
              "    }\n",
              "</style>\n",
              "<table border=\"1\" class=\"dataframe\">\n",
              "  <thead>\n",
              "    <tr style=\"text-align: right;\">\n",
              "      <th></th>\n",
              "      <th>user_id</th>\n",
              "      <th>item_id</th>\n",
              "      <th>rating</th>\n",
              "      <th>timestamp</th>\n",
              "    </tr>\n",
              "  </thead>\n",
              "  <tbody>\n",
              "    <tr>\n",
              "      <th>0</th>\n",
              "      <td>0000031895</td>\n",
              "      <td>A23K73OVXJ04EG</td>\n",
              "      <td>5.0</td>\n",
              "      <td>1391212800</td>\n",
              "    </tr>\n",
              "    <tr>\n",
              "      <th>1</th>\n",
              "      <td>0000031895</td>\n",
              "      <td>A2681T699HV6H1</td>\n",
              "      <td>4.0</td>\n",
              "      <td>1384905600</td>\n",
              "    </tr>\n",
              "    <tr>\n",
              "      <th>2</th>\n",
              "      <td>0000031895</td>\n",
              "      <td>A374PA18DCGS5Y</td>\n",
              "      <td>1.0</td>\n",
              "      <td>1477008000</td>\n",
              "    </tr>\n",
              "    <tr>\n",
              "      <th>3</th>\n",
              "      <td>0000031895</td>\n",
              "      <td>A14PVW2N5YBWSA</td>\n",
              "      <td>5.0</td>\n",
              "      <td>1476748800</td>\n",
              "    </tr>\n",
              "    <tr>\n",
              "      <th>4</th>\n",
              "      <td>0000031895</td>\n",
              "      <td>A2KWBC44QI2567</td>\n",
              "      <td>1.0</td>\n",
              "      <td>1476662400</td>\n",
              "    </tr>\n",
              "  </tbody>\n",
              "</table>\n",
              "</div>"
            ],
            "text/plain": [
              "      user_id         item_id  rating   timestamp\n",
              "0  0000031895  A23K73OVXJ04EG     5.0  1391212800\n",
              "1  0000031895  A2681T699HV6H1     4.0  1384905600\n",
              "2  0000031895  A374PA18DCGS5Y     1.0  1477008000\n",
              "3  0000031895  A14PVW2N5YBWSA     5.0  1476748800\n",
              "4  0000031895  A2KWBC44QI2567     1.0  1476662400"
            ]
          },
          "metadata": {
            "tags": []
          },
          "execution_count": 28
        }
      ]
    },
    {
      "cell_type": "markdown",
      "metadata": {
        "id": "short-scanning"
      },
      "source": [
        "### Data cleaning and exloratory analysis"
      ],
      "id": "short-scanning"
    },
    {
      "cell_type": "code",
      "metadata": {
        "colab": {
          "base_uri": "https://localhost:8080/"
        },
        "id": "secure-profession",
        "outputId": "f72daab1-cb05-4b57-ad6a-201f6e33dbd5"
      },
      "source": [
        "print(\"The dataset has {} records in total\".format(len(videoGames_ratings)))\n",
        "print(\"The dataset has {} users\".format(len(videoGames_ratings['user_id'].unique())))\n",
        "print(\"The dataset has {} video games items\".format(len(videoGames_ratings['item_id'].unique())))"
      ],
      "id": "secure-profession",
      "execution_count": null,
      "outputs": [
        {
          "output_type": "stream",
          "text": [
            "The dataset has 12980837 records in total\n",
            "The dataset has 957764 users\n",
            "The dataset has 6703391 video games items\n"
          ],
          "name": "stdout"
        }
      ]
    },
    {
      "cell_type": "code",
      "metadata": {
        "colab": {
          "base_uri": "https://localhost:8080/"
        },
        "id": "included-cache",
        "outputId": "9e06f0a1-92b0-443d-9c24-8298af6e598c"
      },
      "source": [
        "videoGames_ratings.info()"
      ],
      "id": "included-cache",
      "execution_count": null,
      "outputs": [
        {
          "output_type": "stream",
          "text": [
            "<class 'pandas.core.frame.DataFrame'>\n",
            "RangeIndex: 12980837 entries, 0 to 12980836\n",
            "Data columns (total 4 columns):\n",
            " #   Column     Dtype  \n",
            "---  ------     -----  \n",
            " 0   user_id    object \n",
            " 1   item_id    object \n",
            " 2   rating     float64\n",
            " 3   timestamp  int64  \n",
            "dtypes: float64(1), int64(1), object(2)\n",
            "memory usage: 396.1+ MB\n"
          ],
          "name": "stdout"
        }
      ]
    },
    {
      "cell_type": "code",
      "metadata": {
        "colab": {
          "base_uri": "https://localhost:8080/",
          "height": 300
        },
        "id": "composed-manchester",
        "outputId": "7ab6cec7-fef7-4807-91f3-8982117eb9f8"
      },
      "source": [
        "videoGames_ratings.describe()"
      ],
      "id": "composed-manchester",
      "execution_count": null,
      "outputs": [
        {
          "output_type": "execute_result",
          "data": {
            "text/html": [
              "<div>\n",
              "<style scoped>\n",
              "    .dataframe tbody tr th:only-of-type {\n",
              "        vertical-align: middle;\n",
              "    }\n",
              "\n",
              "    .dataframe tbody tr th {\n",
              "        vertical-align: top;\n",
              "    }\n",
              "\n",
              "    .dataframe thead th {\n",
              "        text-align: right;\n",
              "    }\n",
              "</style>\n",
              "<table border=\"1\" class=\"dataframe\">\n",
              "  <thead>\n",
              "    <tr style=\"text-align: right;\">\n",
              "      <th></th>\n",
              "      <th>rating</th>\n",
              "      <th>timestamp</th>\n",
              "    </tr>\n",
              "  </thead>\n",
              "  <tbody>\n",
              "    <tr>\n",
              "      <th>count</th>\n",
              "      <td>1.298084e+07</td>\n",
              "      <td>1.298084e+07</td>\n",
              "    </tr>\n",
              "    <tr>\n",
              "      <th>mean</th>\n",
              "      <td>4.243398e+00</td>\n",
              "      <td>1.447025e+09</td>\n",
              "    </tr>\n",
              "    <tr>\n",
              "      <th>std</th>\n",
              "      <td>1.240891e+00</td>\n",
              "      <td>5.756559e+07</td>\n",
              "    </tr>\n",
              "    <tr>\n",
              "      <th>min</th>\n",
              "      <td>1.000000e+00</td>\n",
              "      <td>9.261216e+08</td>\n",
              "    </tr>\n",
              "    <tr>\n",
              "      <th>25%</th>\n",
              "      <td>4.000000e+00</td>\n",
              "      <td>1.417910e+09</td>\n",
              "    </tr>\n",
              "    <tr>\n",
              "      <th>50%</th>\n",
              "      <td>5.000000e+00</td>\n",
              "      <td>1.456099e+09</td>\n",
              "    </tr>\n",
              "    <tr>\n",
              "      <th>75%</th>\n",
              "      <td>5.000000e+00</td>\n",
              "      <td>1.487549e+09</td>\n",
              "    </tr>\n",
              "    <tr>\n",
              "      <th>max</th>\n",
              "      <td>5.000000e+00</td>\n",
              "      <td>1.538698e+09</td>\n",
              "    </tr>\n",
              "  </tbody>\n",
              "</table>\n",
              "</div>"
            ],
            "text/plain": [
              "             rating     timestamp\n",
              "count  1.298084e+07  1.298084e+07\n",
              "mean   4.243398e+00  1.447025e+09\n",
              "std    1.240891e+00  5.756559e+07\n",
              "min    1.000000e+00  9.261216e+08\n",
              "25%    4.000000e+00  1.417910e+09\n",
              "50%    5.000000e+00  1.456099e+09\n",
              "75%    5.000000e+00  1.487549e+09\n",
              "max    5.000000e+00  1.538698e+09"
            ]
          },
          "metadata": {
            "tags": []
          },
          "execution_count": 31
        }
      ]
    },
    {
      "cell_type": "code",
      "metadata": {
        "colab": {
          "base_uri": "https://localhost:8080/",
          "height": 297
        },
        "id": "immune-soldier",
        "outputId": "a94755c3-bd13-41eb-ea91-7bebf94ec8ed"
      },
      "source": [
        "plt.title('Rating distribution')\n",
        "ratings_dist = videoGames_ratings.groupby('rating')['rating'].count()\n",
        "ratings_dist.plot(kind='bar')\n",
        "plt.xlabel('Rating score')\n",
        "plt.ylabel('#Instances')\n",
        "plt.grid(axis='y')\n",
        "plt.tight_layout()\n",
        "plt.show()"
      ],
      "id": "immune-soldier",
      "execution_count": null,
      "outputs": [
        {
          "output_type": "display_data",
          "data": {
            "image/png": "[encoded data removed]",
            "text/plain": [
              "<Figure size 432x288 with 1 Axes>"
            ]
          },
          "metadata": {
            "tags": [],
            "needs_background": "light"
          }
        }
      ]
    },
    {
      "cell_type": "code",
      "metadata": {
        "colab": {
          "base_uri": "https://localhost:8080/",
          "height": 297
        },
        "id": "fifteen-terminology",
        "outputId": "7d26b626-3c25-4ac8-d4ea-570ca5321bc5"
      },
      "source": [
        "plt.figure(figsize=(12, 4))\n",
        "\n",
        "plt.subplot(1, 2, 1)\n",
        "plt.title('Ratings per user distribution')\n",
        "ratings_per_user = videoGames_ratings.groupby('user_id')['rating'].count()\n",
        "ratings_per_user.hist(bins=100)\n",
        "plt.yscale('log')\n",
        "plt.xlabel('#Ratings')\n",
        "plt.ylabel('#Users')\n",
        "\n",
        "plt.subplot(1, 2, 2)\n",
        "plt.title('Ratings per item distribution')\n",
        "ratings_per_item = videoGames_ratings.groupby('item_id')['rating'].count()\n",
        "ratings_per_item.hist(bins=100)\n",
        "plt.yscale('log')\n",
        "plt.xlabel('#Ratings')\n",
        "plt.ylabel('#Items')\n",
        "\n",
        "\n",
        "plt.tight_layout()\n",
        "plt.show()"
      ],
      "id": "fifteen-terminology",
      "execution_count": null,
      "outputs": [
        {
          "output_type": "display_data",
          "data": {
            "image/png": "[encoded data removed]",
            "text/plain": [
              "<Figure size 864x288 with 2 Axes>"
            ]
          },
          "metadata": {
            "tags": [],
            "needs_background": "light"
          }
        }
      ]
    },
    {
      "cell_type": "code",
      "metadata": {
        "colab": {
          "base_uri": "https://localhost:8080/",
          "height": 297
        },
        "id": "closing-ranking",
        "outputId": "eb763ceb-f2fd-4910-88d7-fd9afa1318e5"
      },
      "source": [
        "plt.figure(figsize=(12, 4))\n",
        "\n",
        "plt.subplot(1, 2, 1)\n",
        "plt.title('Avg rating per user distribution')\n",
        "ratings_per_user = videoGames_ratings.groupby('user_id')['rating'].mean()\n",
        "ratings_per_user.hist()\n",
        "plt.xlabel('Rating score')\n",
        "plt.ylabel('#Instances')\n",
        "\n",
        "plt.subplot(1, 2, 2)\n",
        "plt.title('Avg rating per item distribution')\n",
        "ratings_per_item = videoGames_ratings.groupby('item_id')['rating'].mean()\n",
        "ratings_per_item.hist()\n",
        "plt.xlabel('Rating score')\n",
        "plt.ylabel('#Instances')\n",
        "\n",
        "plt.tight_layout()\n",
        "plt.show()"
      ],
      "id": "closing-ranking",
      "execution_count": null,
      "outputs": [
        {
          "output_type": "display_data",
          "data": {
            "image/png": "[encoded data removed]",
            "text/plain": [
              "<Figure size 864x288 with 2 Axes>"
            ]
          },
          "metadata": {
            "tags": [],
            "needs_background": "light"
          }
        }
      ]
    },
    {
      "cell_type": "code",
      "metadata": {
        "id": "toxic-proceeding"
      },
      "source": [
        "#removing items that have less than 50 ratings\n",
        "ratings_per_item = videoGames_ratings.groupby('item_id')['rating'].count()\n",
        "items_to_remove = ratings_per_item[ratings_per_item < 50]\n",
        "videoGames_ratings = videoGames_ratings[~videoGames_ratings['item_id'].isin(items_to_remove.index)]\n",
        "\n",
        "#transforming the user and items ids as indxs from 1 to n_users/n_movies\n",
        "unique_users = videoGames_ratings.user_id.unique()\n",
        "user_to_index = {old: new for new, old in enumerate(unique_users)}\n",
        "new_users = videoGames_ratings.user_id.map(user_to_index)\n",
        "\n",
        "unique_movies = videoGames_ratings.item_id.unique()\n",
        "movie_to_index = {old: new for new, old in enumerate(unique_movies)}\n",
        "new_movies = videoGames_ratings.item_id.map(movie_to_index)\n",
        "\n",
        "n_users = unique_users.shape[0]\n",
        "n_movies = unique_movies.shape[0]\n",
        "\n",
        "videoGames_ratings = pd.DataFrame({'user_id': new_users, 'item_id': new_movies, 'rating':videoGames_ratings['rating']})\n",
        "X = pd.DataFrame({'user_id': new_users, 'item_id': new_movies})\n",
        "y = videoGames_ratings['rating'].astype(np.float32)"
      ],
      "id": "toxic-proceeding",
      "execution_count": null,
      "outputs": []
    },
    {
      "cell_type": "code",
      "metadata": {
        "colab": {
          "base_uri": "https://localhost:8080/",
          "height": 424
        },
        "id": "seven-trade",
        "outputId": "2e21aad3-7426-4639-9381-0bd76f05c6ea"
      },
      "source": [
        "X"
      ],
      "id": "seven-trade",
      "execution_count": null,
      "outputs": [
        {
          "output_type": "execute_result",
          "data": {
            "text/html": [
              "<div>\n",
              "<style scoped>\n",
              "    .dataframe tbody tr th:only-of-type {\n",
              "        vertical-align: middle;\n",
              "    }\n",
              "\n",
              "    .dataframe tbody tr th {\n",
              "        vertical-align: top;\n",
              "    }\n",
              "\n",
              "    .dataframe thead th {\n",
              "        text-align: right;\n",
              "    }\n",
              "</style>\n",
              "<table border=\"1\" class=\"dataframe\">\n",
              "  <thead>\n",
              "    <tr style=\"text-align: right;\">\n",
              "      <th></th>\n",
              "      <th>user_id</th>\n",
              "      <th>item_id</th>\n",
              "    </tr>\n",
              "  </thead>\n",
              "  <tbody>\n",
              "    <tr>\n",
              "      <th>321</th>\n",
              "      <td>0</td>\n",
              "      <td>0</td>\n",
              "    </tr>\n",
              "    <tr>\n",
              "      <th>554</th>\n",
              "      <td>1</td>\n",
              "      <td>1</td>\n",
              "    </tr>\n",
              "    <tr>\n",
              "      <th>1172</th>\n",
              "      <td>2</td>\n",
              "      <td>2</td>\n",
              "    </tr>\n",
              "    <tr>\n",
              "      <th>1305</th>\n",
              "      <td>2</td>\n",
              "      <td>3</td>\n",
              "    </tr>\n",
              "    <tr>\n",
              "      <th>3062</th>\n",
              "      <td>3</td>\n",
              "      <td>4</td>\n",
              "    </tr>\n",
              "    <tr>\n",
              "      <th>...</th>\n",
              "      <td>...</td>\n",
              "      <td>...</td>\n",
              "    </tr>\n",
              "    <tr>\n",
              "      <th>12980433</th>\n",
              "      <td>63606</td>\n",
              "      <td>125</td>\n",
              "    </tr>\n",
              "    <tr>\n",
              "      <th>12980476</th>\n",
              "      <td>63607</td>\n",
              "      <td>1347</td>\n",
              "    </tr>\n",
              "    <tr>\n",
              "      <th>12980480</th>\n",
              "      <td>63607</td>\n",
              "      <td>1240</td>\n",
              "    </tr>\n",
              "    <tr>\n",
              "      <th>12980687</th>\n",
              "      <td>63608</td>\n",
              "      <td>575</td>\n",
              "    </tr>\n",
              "    <tr>\n",
              "      <th>12980790</th>\n",
              "      <td>63609</td>\n",
              "      <td>324</td>\n",
              "    </tr>\n",
              "  </tbody>\n",
              "</table>\n",
              "<p>130338 rows × 2 columns</p>\n",
              "</div>"
            ],
            "text/plain": [
              "          user_id  item_id\n",
              "321             0        0\n",
              "554             1        1\n",
              "1172            2        2\n",
              "1305            2        3\n",
              "3062            3        4\n",
              "...           ...      ...\n",
              "12980433    63606      125\n",
              "12980476    63607     1347\n",
              "12980480    63607     1240\n",
              "12980687    63608      575\n",
              "12980790    63609      324\n",
              "\n",
              "[130338 rows x 2 columns]"
            ]
          },
          "metadata": {
            "tags": []
          },
          "execution_count": 35
        }
      ]
    },
    {
      "cell_type": "code",
      "metadata": {
        "id": "christian-devon"
      },
      "source": [
        "def tabular_preview(ratings, n=15):\n",
        "    \"\"\"Creates a cross-tabular view of users vs movies.\"\"\"\n",
        "    \n",
        "    user_groups = ratings.groupby('user_id')['rating'].count()\n",
        "    top_users = user_groups.sort_values(ascending=False)[:15]\n",
        "\n",
        "    movie_groups = ratings.groupby('item_id')['rating'].count()\n",
        "    top_movies = movie_groups.sort_values(ascending=False)[:15]\n",
        "\n",
        "    top = (\n",
        "        ratings.\n",
        "        join(top_users, rsuffix='_r', how='inner', on='user_id').\n",
        "        join(top_movies, rsuffix='_r', how='inner', on='item_id'))\n",
        "\n",
        "    return pd.crosstab(top.user_id, top.item_id, top.rating, aggfunc=np.mean)"
      ],
      "id": "christian-devon",
      "execution_count": null,
      "outputs": []
    },
    {
      "cell_type": "code",
      "metadata": {
        "colab": {
          "base_uri": "https://localhost:8080/",
          "height": 426
        },
        "id": "ready-restoration",
        "outputId": "66754214-a1db-4a73-8c84-6b6d1c9321e9"
      },
      "source": [
        "tabular_preview(videoGames_ratings)"
      ],
      "id": "ready-restoration",
      "execution_count": null,
      "outputs": [
        {
          "output_type": "execute_result",
          "data": {
            "text/html": [
              "<div>\n",
              "<style scoped>\n",
              "    .dataframe tbody tr th:only-of-type {\n",
              "        vertical-align: middle;\n",
              "    }\n",
              "\n",
              "    .dataframe tbody tr th {\n",
              "        vertical-align: top;\n",
              "    }\n",
              "\n",
              "    .dataframe thead th {\n",
              "        text-align: right;\n",
              "    }\n",
              "</style>\n",
              "<table border=\"1\" class=\"dataframe\">\n",
              "  <thead>\n",
              "    <tr style=\"text-align: right;\">\n",
              "      <th>item_id</th>\n",
              "      <th>12</th>\n",
              "      <th>58</th>\n",
              "      <th>59</th>\n",
              "      <th>196</th>\n",
              "      <th>209</th>\n",
              "      <th>335</th>\n",
              "      <th>345</th>\n",
              "      <th>638</th>\n",
              "      <th>803</th>\n",
              "    </tr>\n",
              "    <tr>\n",
              "      <th>user_id</th>\n",
              "      <th></th>\n",
              "      <th></th>\n",
              "      <th></th>\n",
              "      <th></th>\n",
              "      <th></th>\n",
              "      <th></th>\n",
              "      <th></th>\n",
              "      <th></th>\n",
              "      <th></th>\n",
              "    </tr>\n",
              "  </thead>\n",
              "  <tbody>\n",
              "    <tr>\n",
              "      <th>1910</th>\n",
              "      <td>NaN</td>\n",
              "      <td>NaN</td>\n",
              "      <td>5.0</td>\n",
              "      <td>NaN</td>\n",
              "      <td>NaN</td>\n",
              "      <td>NaN</td>\n",
              "      <td>NaN</td>\n",
              "      <td>5.0</td>\n",
              "      <td>NaN</td>\n",
              "    </tr>\n",
              "    <tr>\n",
              "      <th>4417</th>\n",
              "      <td>NaN</td>\n",
              "      <td>NaN</td>\n",
              "      <td>NaN</td>\n",
              "      <td>NaN</td>\n",
              "      <td>NaN</td>\n",
              "      <td>NaN</td>\n",
              "      <td>5.0</td>\n",
              "      <td>NaN</td>\n",
              "      <td>NaN</td>\n",
              "    </tr>\n",
              "    <tr>\n",
              "      <th>4619</th>\n",
              "      <td>NaN</td>\n",
              "      <td>NaN</td>\n",
              "      <td>5.0</td>\n",
              "      <td>NaN</td>\n",
              "      <td>NaN</td>\n",
              "      <td>NaN</td>\n",
              "      <td>5.0</td>\n",
              "      <td>NaN</td>\n",
              "      <td>NaN</td>\n",
              "    </tr>\n",
              "    <tr>\n",
              "      <th>4760</th>\n",
              "      <td>NaN</td>\n",
              "      <td>NaN</td>\n",
              "      <td>NaN</td>\n",
              "      <td>NaN</td>\n",
              "      <td>NaN</td>\n",
              "      <td>4.0</td>\n",
              "      <td>NaN</td>\n",
              "      <td>NaN</td>\n",
              "      <td>5.0</td>\n",
              "    </tr>\n",
              "    <tr>\n",
              "      <th>4974</th>\n",
              "      <td>NaN</td>\n",
              "      <td>NaN</td>\n",
              "      <td>5.0</td>\n",
              "      <td>NaN</td>\n",
              "      <td>NaN</td>\n",
              "      <td>NaN</td>\n",
              "      <td>NaN</td>\n",
              "      <td>NaN</td>\n",
              "      <td>NaN</td>\n",
              "    </tr>\n",
              "    <tr>\n",
              "      <th>5697</th>\n",
              "      <td>NaN</td>\n",
              "      <td>NaN</td>\n",
              "      <td>4.0</td>\n",
              "      <td>5.0</td>\n",
              "      <td>NaN</td>\n",
              "      <td>NaN</td>\n",
              "      <td>NaN</td>\n",
              "      <td>NaN</td>\n",
              "      <td>NaN</td>\n",
              "    </tr>\n",
              "    <tr>\n",
              "      <th>6016</th>\n",
              "      <td>NaN</td>\n",
              "      <td>NaN</td>\n",
              "      <td>4.0</td>\n",
              "      <td>NaN</td>\n",
              "      <td>NaN</td>\n",
              "      <td>NaN</td>\n",
              "      <td>NaN</td>\n",
              "      <td>NaN</td>\n",
              "      <td>NaN</td>\n",
              "    </tr>\n",
              "    <tr>\n",
              "      <th>7487</th>\n",
              "      <td>5.0</td>\n",
              "      <td>5.0</td>\n",
              "      <td>NaN</td>\n",
              "      <td>NaN</td>\n",
              "      <td>NaN</td>\n",
              "      <td>NaN</td>\n",
              "      <td>NaN</td>\n",
              "      <td>NaN</td>\n",
              "      <td>NaN</td>\n",
              "    </tr>\n",
              "    <tr>\n",
              "      <th>11402</th>\n",
              "      <td>NaN</td>\n",
              "      <td>NaN</td>\n",
              "      <td>3.0</td>\n",
              "      <td>5.0</td>\n",
              "      <td>NaN</td>\n",
              "      <td>NaN</td>\n",
              "      <td>NaN</td>\n",
              "      <td>NaN</td>\n",
              "      <td>NaN</td>\n",
              "    </tr>\n",
              "    <tr>\n",
              "      <th>12892</th>\n",
              "      <td>NaN</td>\n",
              "      <td>NaN</td>\n",
              "      <td>NaN</td>\n",
              "      <td>NaN</td>\n",
              "      <td>5.0</td>\n",
              "      <td>NaN</td>\n",
              "      <td>NaN</td>\n",
              "      <td>5.0</td>\n",
              "      <td>NaN</td>\n",
              "    </tr>\n",
              "    <tr>\n",
              "      <th>21165</th>\n",
              "      <td>NaN</td>\n",
              "      <td>NaN</td>\n",
              "      <td>NaN</td>\n",
              "      <td>NaN</td>\n",
              "      <td>4.0</td>\n",
              "      <td>NaN</td>\n",
              "      <td>NaN</td>\n",
              "      <td>NaN</td>\n",
              "      <td>NaN</td>\n",
              "    </tr>\n",
              "  </tbody>\n",
              "</table>\n",
              "</div>"
            ],
            "text/plain": [
              "item_id  12   58   59   196  209  335  345  638  803\n",
              "user_id                                             \n",
              "1910     NaN  NaN  5.0  NaN  NaN  NaN  NaN  5.0  NaN\n",
              "4417     NaN  NaN  NaN  NaN  NaN  NaN  5.0  NaN  NaN\n",
              "4619     NaN  NaN  5.0  NaN  NaN  NaN  5.0  NaN  NaN\n",
              "4760     NaN  NaN  NaN  NaN  NaN  4.0  NaN  NaN  5.0\n",
              "4974     NaN  NaN  5.0  NaN  NaN  NaN  NaN  NaN  NaN\n",
              "5697     NaN  NaN  4.0  5.0  NaN  NaN  NaN  NaN  NaN\n",
              "6016     NaN  NaN  4.0  NaN  NaN  NaN  NaN  NaN  NaN\n",
              "7487     5.0  5.0  NaN  NaN  NaN  NaN  NaN  NaN  NaN\n",
              "11402    NaN  NaN  3.0  5.0  NaN  NaN  NaN  NaN  NaN\n",
              "12892    NaN  NaN  NaN  NaN  5.0  NaN  NaN  5.0  NaN\n",
              "21165    NaN  NaN  NaN  NaN  4.0  NaN  NaN  NaN  NaN"
            ]
          },
          "metadata": {
            "tags": []
          },
          "execution_count": 37
        }
      ]
    },
    {
      "cell_type": "markdown",
      "metadata": {
        "id": "Elixs5twSQ7z"
      },
      "source": [
        "An Embedding NN that takes as inputs the embedings of the users and items and estimates the rating.\n"
      ],
      "id": "Elixs5twSQ7z"
    },
    {
      "cell_type": "code",
      "metadata": {
        "id": "bulgarian-mongolia"
      },
      "source": [
        "class EmbeddingNet(nn.Module):\n",
        "    \"\"\"\n",
        "    Creates a dense network with embedding layers.\n",
        "    \n",
        "    Args:\n",
        "    \n",
        "        n_users:            \n",
        "            Number of unique users in the dataset.\n",
        "        n_movies: \n",
        "            Number of unique movies in the dataset.\n",
        "        n_factors: \n",
        "            Number of columns in the embeddings matrix.\n",
        "        embedding_dropout: \n",
        "            Dropout rate to apply right after embeddings layer.\n",
        "        hidden:\n",
        "            A single integer or a list of integers defining the number of \n",
        "            units in hidden layer(s).\n",
        "        dropouts: \n",
        "            A single integer or a list of integers defining the dropout \n",
        "            layers rates applyied right after each of hidden layers.\n",
        "            \n",
        "    \"\"\"\n",
        "    def __init__(self, n_users, n_movies,\n",
        "                 n_factors=50, embedding_dropout=0.02):\n",
        "        \n",
        "        super().__init__()\n",
        "\n",
        "            \n",
        "        self.u = nn.Embedding(n_users, n_factors)\n",
        "        self.m = nn.Embedding(n_movies, n_factors)\n",
        "        self.drop = nn.Dropout(embedding_dropout)\n",
        "        self.hidden = nn.Sequential(\n",
        "            nn.Linear(1, 70),\n",
        "            nn.Dropout(0.2),\n",
        "            nn.Linear(70, 50),\n",
        "            nn.Dropout(0.2),\n",
        "            nn.Linear(50, 20),\n",
        "            nn.Dropout(0.2),\n",
        "            nn.Linear(20, 10),\n",
        "            nn.ReLU(),\n",
        "        )\n",
        "        self.fc = nn.Linear(10, 1)\n",
        "        \n",
        "    def forward(self, users, movies, minmax=None):\n",
        "        A = self.u(users)\n",
        "        B = self.m(movies)\n",
        "        features = torch.bmm(A.view(A.shape[0], 1, A.shape[1]), B.view(B.shape[0], B.shape[1], 1))\n",
        "        x = self.drop(features)\n",
        "        #print(x.shape)\n",
        "        x = self.hidden(x)\n",
        "        out = torch.sigmoid(self.fc(x))\n",
        "        #for scaling between 1 and 5(min and max rating)\n",
        "        if minmax is not None:\n",
        "            min_rating, max_rating = minmax\n",
        "            out = out*(max_rating - min_rating + 1) + min_rating - 0.5\n",
        "        return out\n",
        "\n",
        "    \n"
      ],
      "id": "bulgarian-mongolia",
      "execution_count": null,
      "outputs": []
    },
    {
      "cell_type": "code",
      "metadata": {
        "id": "genuine-array"
      },
      "source": [
        "def batch_iter(y, tx, batch_size, num_batches=1, shuffle=True):\n",
        "    \"\"\"\n",
        "        Yield num_batches batches of size batch_size from the dataset y,tx\n",
        "    \"\"\"\n",
        "    data_size = len(y)\n",
        "\n",
        "    if shuffle:\n",
        "        shuffle_indices = np.random.permutation(np.arange(data_size))\n",
        "        shuffled_y = y[shuffle_indices]\n",
        "        shuffled_tx = tx[shuffle_indices]\n",
        "    else:\n",
        "        shuffled_y = y\n",
        "        shuffled_tx = tx\n",
        "    for batch_num in range(num_batches):\n",
        "        start_index = batch_num * batch_size\n",
        "        end_index = min((batch_num + 1) * batch_size, data_size)\n",
        "        if start_index != end_index:\n",
        "            yield shuffled_y[start_index:end_index], shuffled_tx[start_index:end_index]"
      ],
      "id": "genuine-array",
      "execution_count": null,
      "outputs": []
    },
    {
      "cell_type": "code",
      "metadata": {
        "id": "right-breath"
      },
      "source": [
        "def train(net, datasets, datasizes ,criterion ,optimizer, BATCH_SIZE, n_epochs):\n",
        "  patience = 10\n",
        "  no_improvements = 0\n",
        "  best_loss = np.inf\n",
        "  best_weights = None\n",
        "  history = []\n",
        "  minmax = (1.0,5.0)\n",
        "\n",
        "  device = torch.device('cuda' if torch.cuda.is_available() else 'cpu')\n",
        "  net.to(device)\n",
        "  for epoch in range(n_epochs):\n",
        "      stats = {'epoch': epoch + 1, 'total': n_epochs}\n",
        "      \n",
        "      for phase in ('train', 'val'):\n",
        "          training = phase == 'train'\n",
        "          running_loss = 0.0\n",
        "          n_batches = 0\n",
        "          \n",
        "          for batch_y, batch_x in batch_iter(datasets[phase][1], datasets[phase][0], BATCH_SIZE,int(dataset_sizes[phase]/BATCH_SIZE),shuffle=training):\n",
        "              batch_x, batch_y = torch.from_numpy(batch_x).to(device), torch.from_numpy(batch_y).to(device)\n",
        "              \n",
        "              optimizer.zero_grad()\n",
        "          \n",
        "              # compute gradients only during training phase\n",
        "              with torch.set_grad_enabled(training):\n",
        "                  outputs = net(batch_x[:, 0], batch_x[:, 1], minmax)\n",
        "                  #print(outputs.shape)\n",
        "                  loss = criterion(outputs.view(-1), batch_y)\n",
        "                  \n",
        "                  # update weights and rates when in training phase\n",
        "                  if training:\n",
        "                      loss.backward()\n",
        "                      optimizer.step()\n",
        "                      \n",
        "              running_loss += loss.item()\n",
        "              \n",
        "          epoch_loss = running_loss / dataset_sizes[phase]\n",
        "          stats[phase] = epoch_loss\n",
        "          \n",
        "          # early stopping\n",
        "          if phase == 'val':\n",
        "              if epoch_loss < best_loss:\n",
        "                  print('loss improvement on epoch: %d' % (epoch + 1))\n",
        "                  best_loss = epoch_loss\n",
        "                  best_weights = copy.deepcopy(net.state_dict())\n",
        "                  no_improvements = 0\n",
        "              else:\n",
        "                  no_improvements += 1\n",
        "                  \n",
        "      history.append(stats)\n",
        "      print('[{epoch:03d}/{total:03d}] train: {train:.4f} - val: {val:.4f}'.format(**stats))\n",
        "      if no_improvements >= patience:\n",
        "          print('early stopping after epoch {epoch:03d}'.format(**stats))\n",
        "          break"
      ],
      "id": "right-breath",
      "execution_count": null,
      "outputs": []
    },
    {
      "cell_type": "code",
      "metadata": {
        "id": "underlying-polymer"
      },
      "source": [
        "from sklearn.model_selection import train_test_split\n",
        "X_train, X_valid, y_train, y_valid = train_test_split(X, y, test_size = 0.20)"
      ],
      "id": "underlying-polymer",
      "execution_count": null,
      "outputs": []
    },
    {
      "cell_type": "code",
      "metadata": {
        "colab": {
          "base_uri": "https://localhost:8080/"
        },
        "id": "deJ87p7tgvvm",
        "outputId": "b5d8afff-e4ca-4342-d0cc-41590360581a"
      },
      "source": [
        "y_train"
      ],
      "id": "deJ87p7tgvvm",
      "execution_count": null,
      "outputs": [
        {
          "output_type": "execute_result",
          "data": {
            "text/plain": [
              "11514178    5.0\n",
              "2601334     3.0\n",
              "3024123     5.0\n",
              "501005      5.0\n",
              "8011668     5.0\n",
              "           ... \n",
              "12609302    5.0\n",
              "9916314     4.0\n",
              "2117227     4.0\n",
              "9961944     5.0\n",
              "9792272     5.0\n",
              "Name: rating, Length: 104270, dtype: float32"
            ]
          },
          "metadata": {
            "tags": []
          },
          "execution_count": 42
        }
      ]
    },
    {
      "cell_type": "code",
      "metadata": {
        "id": "awful-translation"
      },
      "source": [
        "n = len(videoGames_ratings['user_id'].unique())\n",
        "m = len(videoGames_ratings['item_id'].unique())"
      ],
      "id": "awful-translation",
      "execution_count": null,
      "outputs": []
    },
    {
      "cell_type": "code",
      "metadata": {
        "id": "pursuant-venture"
      },
      "source": [
        "net = EmbeddingNet(\n",
        "    n_users=n, n_movies=m, \n",
        "    n_factors=150,  \n",
        "    embedding_dropout=0.5)"
      ],
      "id": "pursuant-venture",
      "execution_count": null,
      "outputs": []
    },
    {
      "cell_type": "code",
      "metadata": {
        "id": "hHLzWVLXJtK5"
      },
      "source": [
        "torch.cuda.empty_cache()"
      ],
      "id": "hHLzWVLXJtK5",
      "execution_count": null,
      "outputs": []
    },
    {
      "cell_type": "code",
      "metadata": {
        "colab": {
          "base_uri": "https://localhost:8080/"
        },
        "id": "metallic-placement",
        "outputId": "ed326ed3-8cd7-48ff-93e5-35dcf2d0b238"
      },
      "source": [
        "lr = 1e-3\n",
        "wd = 1e-5\n",
        "BATCH_SIZE = 2000\n",
        "n_epochs = 100\n",
        "\n",
        "\n",
        "datasets = {'train': (np.array(X_train), np.array(y_train)), 'val': (np.array(X_valid), np.array(y_valid))}\n",
        "dataset_sizes = {'train': len(X_train), 'val': len(X_valid)}\n",
        "\n",
        "criterion = nn.MSELoss(reduction='sum')\n",
        "optimizer = optim.Adam(net.parameters(), lr=lr)#, weight_decay=wd)\n",
        "\n",
        "train(net, datasets, dataset_sizes ,criterion ,optimizer, BATCH_SIZE, n_epochs)"
      ],
      "id": "metallic-placement",
      "execution_count": null,
      "outputs": [
        {
          "output_type": "stream",
          "text": [
            "loss improvement on epoch: 1\n",
            "[001/100] train: 2.0627 - val: 3.0075\n",
            "[002/100] train: 1.9969 - val: 3.0499\n",
            "loss improvement on epoch: 3\n",
            "[003/100] train: 1.9919 - val: 2.9619\n",
            "[004/100] train: 1.9844 - val: 3.0393\n",
            "[005/100] train: 1.9680 - val: 2.9856\n",
            "[006/100] train: 1.9378 - val: 3.1380\n",
            "[007/100] train: 1.8937 - val: 3.0614\n",
            "[008/100] train: 1.8452 - val: 3.1566\n",
            "[009/100] train: 1.7926 - val: 3.0097\n",
            "[010/100] train: 1.7389 - val: 3.1945\n",
            "[011/100] train: 1.6894 - val: 3.0627\n",
            "[012/100] train: 1.6379 - val: 3.2859\n",
            "[013/100] train: 1.5922 - val: 3.1537\n",
            "early stopping after epoch 013\n"
          ],
          "name": "stdout"
        }
      ]
    }
  ]
}